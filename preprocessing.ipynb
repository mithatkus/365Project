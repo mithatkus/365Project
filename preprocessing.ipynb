{
 "cells": [
  {
   "cell_type": "markdown",
   "id": "1edc81dd-2b53-41dc-a9e2-cc684dfdf251",
   "metadata": {},
   "source": [
    "# Fake News Dataset Pre-processing and Data Analysis"
   ]
  },
  {
   "cell_type": "code",
   "execution_count": 2,
   "id": "04e297f7-40c8-42ee-afad-200d576cc270",
   "metadata": {},
   "outputs": [],
   "source": [
    "import pandas as pd\n",
    "import matplotlib.pyplot as plt"
   ]
  },
  {
   "cell_type": "markdown",
   "id": "db5866ae-f278-4ca4-9547-88eb8ef67a2d",
   "metadata": {},
   "source": [
    "## Class Size Comparison"
   ]
  },
  {
   "cell_type": "code",
   "execution_count": 7,
   "id": "df95164a-e9fa-4257-b73b-63584b4a4d0b",
   "metadata": {},
   "outputs": [
    {
     "data": {
      "image/png": "[encoded data removed]",
      "text/plain": [
       "<Figure size 400x300 with 1 Axes>"
      ]
     },
     "metadata": {},
     "output_type": "display_data"
    }
   ],
   "source": [
    "df_true = pd.read_csv('ISOT_dataset/True.csv')\n",
    "len_df_true = len(df_true)\n",
    "df_fake = df_fake = pd.read_csv('ISOT_dataset/Fake.csv')\n",
    "len_df_fake = len(df_fake)\n",
    "\n",
    "data = {'Class': ['True', 'Fake'], 'Length': [len_df_true, len_df_fake]}\n",
    "df = pd.DataFrame(data)\n",
    "\n",
    "plt.figure(figsize=(4, 3))\n",
    "plt.bar(df['Class'], df['Length'], color=['blue', 'red'])\n",
    "plt.title('Comparison of True and Fake News Class Size')\n",
    "plt.xlabel('Class')\n",
    "plt.ylabel('Number of Articles')\n",
    "plt.show()"
   ]
  },
  {
   "cell_type": "code",
   "execution_count": 8,
   "id": "142b8528-b478-46ac-8360-cf61413164f8",
   "metadata": {},
   "outputs": [
    {
     "name": "stdout",
     "output_type": "stream",
     "text": [
      "Number of instances in the Fake class: 23481\n"
     ]
    }
   ],
   "source": [
    "print(\"Number of instances in the Fake class: \" + str(len_df_fake))"
   ]
  },
  {
   "cell_type": "code",
   "execution_count": 9,
   "id": "86cbac76-c87c-4553-9634-a037ed58e14f",
   "metadata": {},
   "outputs": [
    {
     "name": "stdout",
     "output_type": "stream",
     "text": [
      "Number of instances in the True class: 21417\n"
     ]
    }
   ],
   "source": [
    "print(\"Number of instances in the True class: \" + str(len_df_true))"
   ]
  },
  {
   "cell_type": "markdown",
   "id": "730c236d-35ac-4551-b073-ea739a080bf8",
   "metadata": {},
   "source": [
    "## Removing Headers"
   ]
  },
  {
   "cell_type": "code",
   "execution_count": 112,
   "id": "8814012e-c53a-42bc-a0b5-b9c113add8d2",
   "metadata": {},
   "outputs": [
    {
     "name": "stdout",
     "output_type": "stream",
     "text": [
      "Number of times \"Reuters\" is found in True news dataset: 21378\n",
      "Number of times \"Reuters\" is found in Fake news dataset: 322\n"
     ]
    }
   ],
   "source": [
    "# Count occurrences of \"Reuters\" in the 'text' column of the True news dataframe\n",
    "count_reuters_true = df_true['text'].str.contains('Reuters', case=False, na=False).sum()\n",
    "\n",
    "# Count occurrences of \"Reuters\" in the 'text' column of the Fake news dataframe\n",
    "count_reuters_fake = df_fake['text'].str.contains('Reuters', case=False, na=False).sum()\n",
    "\n",
    "print(f'Number of times \"Reuters\" is found in True news dataset: {count_reuters_true}')\n",
    "print(f'Number of times \"Reuters\" is found in Fake news dataset: {count_reuters_fake}')\n"
   ]
  },
  {
   "cell_type": "code",
   "execution_count": 113,
   "id": "f9de2352-682a-4467-b2ec-98b5da0a6b1d",
   "metadata": {},
   "outputs": [],
   "source": [
    "pattern_to_remove = r'^.*?\\(Reuters\\)\\s*-\\s*'\n",
    "count_with_reuters_header = df_true['text'].str.contains(pattern_to_remove, regex=True).sum()"
   ]
  },
  {
   "cell_type": "code",
   "execution_count": 114,
   "id": "7e694edd-0349-4079-9954-4af3a6f33ba5",
   "metadata": {},
   "outputs": [
    {
     "data": {
      "text/plain": [
       "21246"
      ]
     },
     "execution_count": 114,
     "metadata": {},
     "output_type": "execute_result"
    }
   ],
   "source": [
    "count_with_reuters_header"
   ]
  },
  {
   "cell_type": "code",
   "execution_count": 115,
   "id": "5c5b5420-6761-405c-a5e9-83290274d464",
   "metadata": {},
   "outputs": [
    {
     "data": {
      "text/plain": [
       "21417"
      ]
     },
     "execution_count": 115,
     "metadata": {},
     "output_type": "execute_result"
    }
   ],
   "source": [
    "len(df_true)"
   ]
  },
  {
   "cell_type": "code",
   "execution_count": 116,
   "id": "c13cd982-b313-4611-8879-bd5fcaffaca3",
   "metadata": {},
   "outputs": [],
   "source": [
    "df_true['text'] = df_true['text'].str.replace(r'^.*?\\(Reuters\\)\\s*-\\s*', '', regex=True)"
   ]
  },
  {
   "cell_type": "code",
   "execution_count": 117,
   "id": "6e52af6a-7183-4d3e-a1a6-8179aefa9285",
   "metadata": {},
   "outputs": [
    {
     "data": {
      "text/html": [
       "<div>\n",
       "<style scoped>\n",
       "    .dataframe tbody tr th:only-of-type {\n",
       "        vertical-align: middle;\n",
       "    }\n",
       "\n",
       "    .dataframe tbody tr th {\n",
       "        vertical-align: top;\n",
       "    }\n",
       "\n",
       "    .dataframe thead th {\n",
       "        text-align: right;\n",
       "    }\n",
       "</style>\n",
       "<table border=\"1\" class=\"dataframe\">\n",
       "  <thead>\n",
       "    <tr style=\"text-align: right;\">\n",
       "      <th></th>\n",
       "      <th>title</th>\n",
       "      <th>text</th>\n",
       "      <th>subject</th>\n",
       "      <th>date</th>\n",
       "    </tr>\n",
       "  </thead>\n",
       "  <tbody>\n",
       "    <tr>\n",
       "      <th>0</th>\n",
       "      <td>As U.S. budget fight looms, Republicans flip t...</td>\n",
       "      <td>The head of a conservative Republican faction ...</td>\n",
       "      <td>politicsNews</td>\n",
       "      <td>December 31, 2017</td>\n",
       "    </tr>\n",
       "    <tr>\n",
       "      <th>1</th>\n",
       "      <td>U.S. military to accept transgender recruits o...</td>\n",
       "      <td>Transgender people will be allowed for the fir...</td>\n",
       "      <td>politicsNews</td>\n",
       "      <td>December 29, 2017</td>\n",
       "    </tr>\n",
       "    <tr>\n",
       "      <th>2</th>\n",
       "      <td>Senior U.S. Republican senator: 'Let Mr. Muell...</td>\n",
       "      <td>The special counsel investigation of links bet...</td>\n",
       "      <td>politicsNews</td>\n",
       "      <td>December 31, 2017</td>\n",
       "    </tr>\n",
       "    <tr>\n",
       "      <th>3</th>\n",
       "      <td>FBI Russia probe helped by Australian diplomat...</td>\n",
       "      <td>Trump campaign adviser George Papadopoulos tol...</td>\n",
       "      <td>politicsNews</td>\n",
       "      <td>December 30, 2017</td>\n",
       "    </tr>\n",
       "    <tr>\n",
       "      <th>4</th>\n",
       "      <td>Trump wants Postal Service to charge 'much mor...</td>\n",
       "      <td>President Donald Trump called on the U.S. Post...</td>\n",
       "      <td>politicsNews</td>\n",
       "      <td>December 29, 2017</td>\n",
       "    </tr>\n",
       "  </tbody>\n",
       "</table>\n",
       "</div>"
      ],
      "text/plain": [
       "                                               title  \\\n",
       "0  As U.S. budget fight looms, Republicans flip t...   \n",
       "1  U.S. military to accept transgender recruits o...   \n",
       "2  Senior U.S. Republican senator: 'Let Mr. Muell...   \n",
       "3  FBI Russia probe helped by Australian diplomat...   \n",
       "4  Trump wants Postal Service to charge 'much mor...   \n",
       "\n",
       "                                                text       subject  \\\n",
       "0  The head of a conservative Republican faction ...  politicsNews   \n",
       "1  Transgender people will be allowed for the fir...  politicsNews   \n",
       "2  The special counsel investigation of links bet...  politicsNews   \n",
       "3  Trump campaign adviser George Papadopoulos tol...  politicsNews   \n",
       "4  President Donald Trump called on the U.S. Post...  politicsNews   \n",
       "\n",
       "                 date  \n",
       "0  December 31, 2017   \n",
       "1  December 29, 2017   \n",
       "2  December 31, 2017   \n",
       "3  December 30, 2017   \n",
       "4  December 29, 2017   "
      ]
     },
     "execution_count": 117,
     "metadata": {},
     "output_type": "execute_result"
    }
   ],
   "source": [
    "df_true.head()"
   ]
  },
  {
   "cell_type": "markdown",
   "id": "1ca00907-08e3-446a-bc45-a29a3048bbfe",
   "metadata": {},
   "source": [
    "## Creating the main dataframe"
   ]
  },
  {
   "cell_type": "code",
   "execution_count": 118,
   "id": "bfe75e40-af75-4a4b-8cea-e4b1603daea0",
   "metadata": {},
   "outputs": [
    {
     "name": "stderr",
     "output_type": "stream",
     "text": [
      "/var/folders/h9/7_8cr2zj6_l9fjgdg1nlw7tc0000gn/T/ipykernel_17695/4260983741.py:4: SettingWithCopyWarning: \n",
      "A value is trying to be set on a copy of a slice from a DataFrame.\n",
      "Try using .loc[row_indexer,col_indexer] = value instead\n",
      "\n",
      "See the caveats in the documentation: https://pandas.pydata.org/pandas-docs/stable/user_guide/indexing.html#returning-a-view-versus-a-copy\n",
      "  fake_df['class'] = 0\n",
      "/var/folders/h9/7_8cr2zj6_l9fjgdg1nlw7tc0000gn/T/ipykernel_17695/4260983741.py:5: SettingWithCopyWarning: \n",
      "A value is trying to be set on a copy of a slice from a DataFrame.\n",
      "Try using .loc[row_indexer,col_indexer] = value instead\n",
      "\n",
      "See the caveats in the documentation: https://pandas.pydata.org/pandas-docs/stable/user_guide/indexing.html#returning-a-view-versus-a-copy\n",
      "  true_df['class'] = 1\n"
     ]
    }
   ],
   "source": [
    "fake_df = df_fake[['title', 'text']]\n",
    "true_df = df_true[['title', 'text']]\n",
    "\n",
    "fake_df['class'] = 0\n",
    "true_df['class'] = 1"
   ]
  },
  {
   "cell_type": "code",
   "execution_count": 119,
   "id": "a9a2af2f-3fe9-4eae-8b71-005c7f29529a",
   "metadata": {},
   "outputs": [],
   "source": [
    "df = pd.concat([fake_df, true_df], ignore_index=True, sort=False)"
   ]
  },
  {
   "cell_type": "code",
   "execution_count": 120,
   "id": "d2b258ce-aa6b-4f53-9d3f-801f7de09bbc",
   "metadata": {},
   "outputs": [],
   "source": [
    "df['title_text'] = df['title'] + ' ' + df['text']\n",
    "df.drop(['title', 'text'], axis=1, inplace=True)"
   ]
  },
  {
   "cell_type": "code",
   "execution_count": 121,
   "id": "9b53ba34-766d-4e29-a25f-13a06cb0e89c",
   "metadata": {},
   "outputs": [
    {
     "data": {
      "text/html": [
       "<div>\n",
       "<style scoped>\n",
       "    .dataframe tbody tr th:only-of-type {\n",
       "        vertical-align: middle;\n",
       "    }\n",
       "\n",
       "    .dataframe tbody tr th {\n",
       "        vertical-align: top;\n",
       "    }\n",
       "\n",
       "    .dataframe thead th {\n",
       "        text-align: right;\n",
       "    }\n",
       "</style>\n",
       "<table border=\"1\" class=\"dataframe\">\n",
       "  <thead>\n",
       "    <tr style=\"text-align: right;\">\n",
       "      <th></th>\n",
       "      <th>class</th>\n",
       "      <th>title_text</th>\n",
       "    </tr>\n",
       "  </thead>\n",
       "  <tbody>\n",
       "    <tr>\n",
       "      <th>0</th>\n",
       "      <td>0</td>\n",
       "      <td>Donald Trump Sends Out Embarrassing New Year’...</td>\n",
       "    </tr>\n",
       "    <tr>\n",
       "      <th>1</th>\n",
       "      <td>0</td>\n",
       "      <td>Drunk Bragging Trump Staffer Started Russian ...</td>\n",
       "    </tr>\n",
       "    <tr>\n",
       "      <th>2</th>\n",
       "      <td>0</td>\n",
       "      <td>Sheriff David Clarke Becomes An Internet Joke...</td>\n",
       "    </tr>\n",
       "    <tr>\n",
       "      <th>3</th>\n",
       "      <td>0</td>\n",
       "      <td>Trump Is So Obsessed He Even Has Obama’s Name...</td>\n",
       "    </tr>\n",
       "    <tr>\n",
       "      <th>4</th>\n",
       "      <td>0</td>\n",
       "      <td>Pope Francis Just Called Out Donald Trump Dur...</td>\n",
       "    </tr>\n",
       "  </tbody>\n",
       "</table>\n",
       "</div>"
      ],
      "text/plain": [
       "   class                                         title_text\n",
       "0      0   Donald Trump Sends Out Embarrassing New Year’...\n",
       "1      0   Drunk Bragging Trump Staffer Started Russian ...\n",
       "2      0   Sheriff David Clarke Becomes An Internet Joke...\n",
       "3      0   Trump Is So Obsessed He Even Has Obama’s Name...\n",
       "4      0   Pope Francis Just Called Out Donald Trump Dur..."
      ]
     },
     "execution_count": 121,
     "metadata": {},
     "output_type": "execute_result"
    }
   ],
   "source": [
    "df.head()"
   ]
  },
  {
   "cell_type": "code",
   "execution_count": 122,
   "id": "4e24df6d-2d3d-4e57-9995-7d00956be175",
   "metadata": {},
   "outputs": [],
   "source": [
    "import nltk\n",
    "from nltk.stem import PorterStemmer\n",
    "from nltk.corpus import stopwords\n",
    "from nltk.tokenize import word_tokenize\n",
    "import re\n",
    "from tqdm import tqdm"
   ]
  },
  {
   "cell_type": "code",
   "execution_count": 123,
   "id": "a6851fb2-9739-4f8d-a2ff-484e9ffffa57",
   "metadata": {},
   "outputs": [
    {
     "name": "stderr",
     "output_type": "stream",
     "text": [
      "[nltk_data] Downloading package punkt to /Users/mithatkus/nltk_data...\n",
      "[nltk_data]   Package punkt is already up-to-date!\n",
      "[nltk_data] Downloading package stopwords to\n",
      "[nltk_data]     /Users/mithatkus/nltk_data...\n",
      "[nltk_data]   Package stopwords is already up-to-date!\n"
     ]
    },
    {
     "data": {
      "text/plain": [
       "True"
      ]
     },
     "execution_count": 123,
     "metadata": {},
     "output_type": "execute_result"
    }
   ],
   "source": [
    "nltk.download('punkt')\n",
    "nltk.download('stopwords')"
   ]
  },
  {
   "cell_type": "markdown",
   "id": "2d80f8c6-9762-4410-a626-e6794d1b0bc4",
   "metadata": {},
   "source": [
    "## Change text to lowercase"
   ]
  },
  {
   "cell_type": "code",
   "execution_count": 124,
   "id": "a392c423-022a-4fcb-9c29-9b0eb7acff18",
   "metadata": {},
   "outputs": [],
   "source": [
    "def to_lowercase(text):\n",
    "    return text.lower()\n",
    "\n",
    "# Apply function\n",
    "df['title_text'] = df['title_text'].apply(to_lowercase)"
   ]
  },
  {
   "cell_type": "markdown",
   "id": "554727f7-993d-453e-ab6b-7b9c59b4ffff",
   "metadata": {},
   "source": [
    "## Removing non-textual elements"
   ]
  },
  {
   "cell_type": "code",
   "execution_count": 125,
   "id": "d91d53ed-51e3-493d-a864-8821ae04a077",
   "metadata": {},
   "outputs": [
    {
     "name": "stdout",
     "output_type": "stream",
     "text": [
      "Occurrences of 'twitter.com': 3630\n",
      "Occurrences of '@potus': 318\n",
      "Occurrences of '@realdonaldtrump': 1497\n",
      "Occurrences of pattern1: 2100\n",
      "Occurrences of pattern2: 289\n",
      "Occurrences of pattern3: 8161\n",
      "Occurrences of urls: 4681\n"
     ]
    }
   ],
   "source": [
    "twitter_occurrences = df['title_text'].str.contains('twitter.com').sum()\n",
    "potus_occurrences = df['title_text'].str.contains('@potus').sum()\n",
    "dt_occurrences = df['title_text'].str.contains('@realdonaldtrump').sum()\n",
    "url_occurrences = df['title_text'].str.count(r'http[s]?://(?:[a-zA-Z]|[0-9]|[$-_@.&+]|[!*\\\\(\\\\),]|(?:%[0-9a-fA-F][0-9a-fA-F]))+').sum()\n",
    "\n",
    "pattern1 = r'(?:\\.\\s*|\\s)featured image via .*? images'\n",
    "occurrences1 = df['title_text'].str.contains(pattern).sum()\n",
    "\n",
    "pattern2 = r'(?:\\.\\s*| )featured image via .*? getty images(?: for.*?)?'\n",
    "occurrences2 = df['title_text'].str.contains(pattern2).sum()\n",
    "\n",
    "pattern3 = r'featured image.*$'\n",
    "occurrences3 = df['title_text'].str.contains(pattern3).sum()\n",
    "\n",
    "print(f\"Occurrences of 'twitter.com': {twitter_occurrences}\")\n",
    "print(f\"Occurrences of '@potus': {potus_occurrences}\")\n",
    "print(f\"Occurrences of '@realdonaldtrump': {dt_occurrences}\")\n",
    "print(f\"Occurrences of pattern1: {occurrences1}\")\n",
    "print(f\"Occurrences of pattern2: {occurrences2}\")\n",
    "print(f\"Occurrences of pattern3: {occurrences3}\")\n",
    "print(f\"Occurrences of urls: {url_occurrences}\")"
   ]
  },
  {
   "cell_type": "code",
   "execution_count": 126,
   "id": "829dd8b2-4243-4e50-b424-c17d86debd62",
   "metadata": {},
   "outputs": [],
   "source": [
    "def remove_non_textual_elements(text):\n",
    "    # Remove URLs\n",
    "    text = re.sub(r'http[s]?://(?:[a-zA-Z]|[0-9]|[$-_@.&+]|[!*\\\\(\\\\),]|(?:%[0-9a-fA-F][0-9a-fA-F]))+', '', text)\n",
    "    # Remove hashtags\n",
    "    text = re.sub(r'#\\w+', '', text)\n",
    "    # Remove mentions\n",
    "    text = re.sub(r'@\\w+', '', text)\n",
    "    # Remove markdown links - (http://url.com)\n",
    "    text = re.sub(r'\\[.*?\\]\\(.*?\\)', '', text)\n",
    "    # Remove specific patterns\n",
    "    text = re.sub(r'featured image.*$', '', text)\n",
    "    # remove 'twitter.com'\n",
    "    text = re.sub(r'twitter\\.com', '', text, flags=re.IGNORECASE)  \n",
    "    return text\n",
    "\n",
    "# Apply the function to the 'title_text' column\n",
    "df['title_text'] = df['title_text'].apply(remove_non_textual_elements)"
   ]
  },
  {
   "cell_type": "code",
   "execution_count": 127,
   "id": "3faf131c-3644-4950-bf50-4a531ca0e5de",
   "metadata": {},
   "outputs": [
    {
     "name": "stdout",
     "output_type": "stream",
     "text": [
      "Occurrences of 'twitter.com': 20\n",
      "Occurrences of '@potus': 0\n",
      "Occurrences of '@realdonaldtrump': 0\n",
      "Occurrences of pattern1: 0\n",
      "Occurrences of pattern2: 0\n",
      "Occurrences of pattern3: 0\n",
      "Occurrences of urls: 0\n"
     ]
    }
   ],
   "source": [
    "twitter_occurrences = df['title_text'].str.contains('twitter.com').sum()\n",
    "potus_occurrences = df['title_text'].str.contains('@potus').sum()\n",
    "dt_occurrences = df['title_text'].str.contains('@realdonaldtrump').sum()\n",
    "url_occurrences = df['title_text'].str.count(r'http[s]?://(?:[a-zA-Z]|[0-9]|[$-_@.&+]|[!*\\\\(\\\\),]|(?:%[0-9a-fA-F][0-9a-fA-F]))+').sum()\n",
    "\n",
    "pattern1 = r'(?:\\.\\s*|\\s)featured image via .*? images'\n",
    "occurrences1 = df['title_text'].str.contains(pattern).sum()\n",
    "\n",
    "pattern2 = r'(?:\\.\\s*| )featured image via .*? getty images(?: for.*?)?'\n",
    "occurrences2 = df['title_text'].str.contains(pattern2).sum()\n",
    "\n",
    "pattern3 = r'featured image.*$'\n",
    "occurrences3 = df['title_text'].str.contains(pattern3).sum()\n",
    "\n",
    "print(f\"Occurrences of 'twitter.com': {twitter_occurrences}\")\n",
    "print(f\"Occurrences of '@potus': {potus_occurrences}\")\n",
    "print(f\"Occurrences of '@realdonaldtrump': {dt_occurrences}\")\n",
    "print(f\"Occurrences of pattern1: {occurrences1}\")\n",
    "print(f\"Occurrences of pattern2: {occurrences2}\")\n",
    "print(f\"Occurrences of pattern3: {occurrences3}\")\n",
    "print(f\"Occurrences of urls: {url_occurrences}\")"
   ]
  },
  {
   "cell_type": "code",
   "execution_count": 128,
   "id": "0e48bf2f-8d78-4a3a-98a9-a162d02d18ad",
   "metadata": {},
   "outputs": [],
   "source": [
    "df = df[~df['title_text'].str.contains('twitter.com')]"
   ]
  },
  {
   "cell_type": "markdown",
   "id": "b34fdc6a-d1d7-4177-9b0f-7f436466c64b",
   "metadata": {},
   "source": [
    "## Remove numbers & punctuation"
   ]
  },
  {
   "cell_type": "code",
   "execution_count": 129,
   "id": "4a714773-6dcf-40a7-bc74-e3c78525a691",
   "metadata": {},
   "outputs": [],
   "source": [
    "def remove_numbers_punctuation(text):\n",
    "    return re.sub(r'\\d+|[^a-zA-Z\\s]', '', text)\n",
    "\n",
    "# Apply function\n",
    "df['title_text'] = df['title_text'].apply(remove_numbers_punctuation)"
   ]
  },
  {
   "cell_type": "markdown",
   "id": "f0c8c0f6-8f22-4fdf-add0-f7f420ed457b",
   "metadata": {},
   "source": [
    "## Tokenize"
   ]
  },
  {
   "cell_type": "code",
   "execution_count": 130,
   "id": "052ba171-c391-4334-b14a-9016874183a3",
   "metadata": {},
   "outputs": [],
   "source": [
    "def tokenize(text):\n",
    "    return word_tokenize(text)\n",
    "\n",
    "# Apply function\n",
    "df['tokens'] = df['title_text'].apply(tokenize)"
   ]
  },
  {
   "cell_type": "markdown",
   "id": "f3fdaa5c-7a7a-4a5a-bc64-af2a611ed30e",
   "metadata": {},
   "source": [
    "## Remove stopwords"
   ]
  },
  {
   "cell_type": "code",
   "execution_count": 131,
   "id": "fc53cf63-6ffa-4a73-9122-497688a209c7",
   "metadata": {},
   "outputs": [],
   "source": [
    "stop_words = stopwords.words('english')\n",
    "\n",
    "def remove_stopwords(tokens):\n",
    "    return [word for word in tokens if word not in stop_words]\n",
    "\n",
    "# Apply function\n",
    "df['tokens'] = df['tokens'].apply(remove_stopwords)"
   ]
  },
  {
   "cell_type": "markdown",
   "id": "ddbc7f43-7d36-4b24-8335-a2a704efbc08",
   "metadata": {},
   "source": [
    "## Stemming"
   ]
  },
  {
   "cell_type": "code",
   "execution_count": 132,
   "id": "59fee3dc-8dc9-48a7-998f-f7acdccacbf0",
   "metadata": {},
   "outputs": [],
   "source": [
    "stemmer = PorterStemmer()\n",
    "\n",
    "def stem(tokens):\n",
    "    return [stemmer.stem(word) for word in tokens]\n",
    "\n",
    "# Apply function\n",
    "df['stemmed_tokens'] = df['tokens'].apply(stem)"
   ]
  },
  {
   "cell_type": "markdown",
   "id": "141c2a81-130c-4b86-8169-ae5bf2ab7ea7",
   "metadata": {},
   "source": [
    "## Join Stemmed Tokens "
   ]
  },
  {
   "cell_type": "code",
   "execution_count": 133,
   "id": "7b0bfc0f-a4a3-442d-b601-376b8e729a4c",
   "metadata": {},
   "outputs": [],
   "source": [
    "def tokens_to_string(tokens):\n",
    "    return ' '.join(tokens)\n",
    "\n",
    "# Apply function\n",
    "df['clean_text'] = df['stemmed_tokens'].apply(tokens_to_string)"
   ]
  },
  {
   "cell_type": "code",
   "execution_count": 134,
   "id": "c76ebb4d-58a9-412c-b43b-b7d07663c3b2",
   "metadata": {},
   "outputs": [
    {
     "data": {
      "text/html": [
       "<div>\n",
       "<style scoped>\n",
       "    .dataframe tbody tr th:only-of-type {\n",
       "        vertical-align: middle;\n",
       "    }\n",
       "\n",
       "    .dataframe tbody tr th {\n",
       "        vertical-align: top;\n",
       "    }\n",
       "\n",
       "    .dataframe thead th {\n",
       "        text-align: right;\n",
       "    }\n",
       "</style>\n",
       "<table border=\"1\" class=\"dataframe\">\n",
       "  <thead>\n",
       "    <tr style=\"text-align: right;\">\n",
       "      <th></th>\n",
       "      <th>class</th>\n",
       "      <th>title_text</th>\n",
       "      <th>tokens</th>\n",
       "      <th>stemmed_tokens</th>\n",
       "      <th>clean_text</th>\n",
       "    </tr>\n",
       "  </thead>\n",
       "  <tbody>\n",
       "    <tr>\n",
       "      <th>0</th>\n",
       "      <td>0</td>\n",
       "      <td>donald trump sends out embarrassing new years...</td>\n",
       "      <td>[donald, trump, sends, embarrassing, new, year...</td>\n",
       "      <td>[donald, trump, send, embarrass, new, year, ev...</td>\n",
       "      <td>donald trump send embarrass new year eve messa...</td>\n",
       "    </tr>\n",
       "    <tr>\n",
       "      <th>1</th>\n",
       "      <td>0</td>\n",
       "      <td>drunk bragging trump staffer started russian ...</td>\n",
       "      <td>[drunk, bragging, trump, staffer, started, rus...</td>\n",
       "      <td>[drunk, brag, trump, staffer, start, russian, ...</td>\n",
       "      <td>drunk brag trump staffer start russian collus ...</td>\n",
       "    </tr>\n",
       "    <tr>\n",
       "      <th>2</th>\n",
       "      <td>0</td>\n",
       "      <td>sheriff david clarke becomes an internet joke...</td>\n",
       "      <td>[sheriff, david, clarke, becomes, internet, jo...</td>\n",
       "      <td>[sheriff, david, clark, becom, internet, joke,...</td>\n",
       "      <td>sheriff david clark becom internet joke threat...</td>\n",
       "    </tr>\n",
       "    <tr>\n",
       "      <th>3</th>\n",
       "      <td>0</td>\n",
       "      <td>trump is so obsessed he even has obamas name ...</td>\n",
       "      <td>[trump, obsessed, even, obamas, name, coded, w...</td>\n",
       "      <td>[trump, obsess, even, obama, name, code, websi...</td>\n",
       "      <td>trump obsess even obama name code websit imag ...</td>\n",
       "    </tr>\n",
       "    <tr>\n",
       "      <th>4</th>\n",
       "      <td>0</td>\n",
       "      <td>pope francis just called out donald trump dur...</td>\n",
       "      <td>[pope, francis, called, donald, trump, christm...</td>\n",
       "      <td>[pope, franci, call, donald, trump, christma, ...</td>\n",
       "      <td>pope franci call donald trump christma speech ...</td>\n",
       "    </tr>\n",
       "  </tbody>\n",
       "</table>\n",
       "</div>"
      ],
      "text/plain": [
       "   class                                         title_text  \\\n",
       "0      0   donald trump sends out embarrassing new years...   \n",
       "1      0   drunk bragging trump staffer started russian ...   \n",
       "2      0   sheriff david clarke becomes an internet joke...   \n",
       "3      0   trump is so obsessed he even has obamas name ...   \n",
       "4      0   pope francis just called out donald trump dur...   \n",
       "\n",
       "                                              tokens  \\\n",
       "0  [donald, trump, sends, embarrassing, new, year...   \n",
       "1  [drunk, bragging, trump, staffer, started, rus...   \n",
       "2  [sheriff, david, clarke, becomes, internet, jo...   \n",
       "3  [trump, obsessed, even, obamas, name, coded, w...   \n",
       "4  [pope, francis, called, donald, trump, christm...   \n",
       "\n",
       "                                      stemmed_tokens  \\\n",
       "0  [donald, trump, send, embarrass, new, year, ev...   \n",
       "1  [drunk, brag, trump, staffer, start, russian, ...   \n",
       "2  [sheriff, david, clark, becom, internet, joke,...   \n",
       "3  [trump, obsess, even, obama, name, code, websi...   \n",
       "4  [pope, franci, call, donald, trump, christma, ...   \n",
       "\n",
       "                                          clean_text  \n",
       "0  donald trump send embarrass new year eve messa...  \n",
       "1  drunk brag trump staffer start russian collus ...  \n",
       "2  sheriff david clark becom internet joke threat...  \n",
       "3  trump obsess even obama name code websit imag ...  \n",
       "4  pope franci call donald trump christma speech ...  "
      ]
     },
     "execution_count": 134,
     "metadata": {},
     "output_type": "execute_result"
    }
   ],
   "source": [
    "df.head()"
   ]
  },
  {
   "cell_type": "code",
   "execution_count": 135,
   "id": "fe35c380-718d-4df3-883e-7143d8049999",
   "metadata": {},
   "outputs": [],
   "source": [
    "df = df[['class','clean_text']]"
   ]
  },
  {
   "cell_type": "code",
   "execution_count": 136,
   "id": "476a31b7-1b0e-42ce-91ff-badb8f545748",
   "metadata": {},
   "outputs": [
    {
     "data": {
      "text/html": [
       "<div>\n",
       "<style scoped>\n",
       "    .dataframe tbody tr th:only-of-type {\n",
       "        vertical-align: middle;\n",
       "    }\n",
       "\n",
       "    .dataframe tbody tr th {\n",
       "        vertical-align: top;\n",
       "    }\n",
       "\n",
       "    .dataframe thead th {\n",
       "        text-align: right;\n",
       "    }\n",
       "</style>\n",
       "<table border=\"1\" class=\"dataframe\">\n",
       "  <thead>\n",
       "    <tr style=\"text-align: right;\">\n",
       "      <th></th>\n",
       "      <th>class</th>\n",
       "      <th>clean_text</th>\n",
       "    </tr>\n",
       "  </thead>\n",
       "  <tbody>\n",
       "    <tr>\n",
       "      <th>0</th>\n",
       "      <td>0</td>\n",
       "      <td>donald trump send embarrass new year eve messa...</td>\n",
       "    </tr>\n",
       "    <tr>\n",
       "      <th>1</th>\n",
       "      <td>0</td>\n",
       "      <td>drunk brag trump staffer start russian collus ...</td>\n",
       "    </tr>\n",
       "    <tr>\n",
       "      <th>2</th>\n",
       "      <td>0</td>\n",
       "      <td>sheriff david clark becom internet joke threat...</td>\n",
       "    </tr>\n",
       "    <tr>\n",
       "      <th>3</th>\n",
       "      <td>0</td>\n",
       "      <td>trump obsess even obama name code websit imag ...</td>\n",
       "    </tr>\n",
       "    <tr>\n",
       "      <th>4</th>\n",
       "      <td>0</td>\n",
       "      <td>pope franci call donald trump christma speech ...</td>\n",
       "    </tr>\n",
       "  </tbody>\n",
       "</table>\n",
       "</div>"
      ],
      "text/plain": [
       "   class                                         clean_text\n",
       "0      0  donald trump send embarrass new year eve messa...\n",
       "1      0  drunk brag trump staffer start russian collus ...\n",
       "2      0  sheriff david clark becom internet joke threat...\n",
       "3      0  trump obsess even obama name code websit imag ...\n",
       "4      0  pope franci call donald trump christma speech ..."
      ]
     },
     "execution_count": 136,
     "metadata": {},
     "output_type": "execute_result"
    }
   ],
   "source": [
    "df.head()"
   ]
  },
  {
   "cell_type": "code",
   "execution_count": 137,
   "id": "9aff84a0-b67c-4713-b239-60b0a7659b97",
   "metadata": {},
   "outputs": [],
   "source": [
    "df.dropna(subset=['clean_text'], inplace=True)"
   ]
  },
  {
   "cell_type": "code",
   "execution_count": 138,
   "id": "459f0788-d8f8-49c9-b187-a92da27eebd0",
   "metadata": {},
   "outputs": [],
   "source": [
    "df.to_csv('cleanedISOT.csv', index=False)"
   ]
  }
 ],
 "metadata": {
  "kernelspec": {
   "display_name": "Python 3 (ipykernel)",
   "language": "python",
   "name": "python3"
  },
  "language_info": {
   "codemirror_mode": {
    "name": "ipython",
    "version": 3
   },
   "file_extension": ".py",
   "mimetype": "text/x-python",
   "name": "python",
   "nbconvert_exporter": "python",
   "pygments_lexer": "ipython3",
   "version": "3.8.0"
  }
 },
 "nbformat": 4,
 "nbformat_minor": 5
}
